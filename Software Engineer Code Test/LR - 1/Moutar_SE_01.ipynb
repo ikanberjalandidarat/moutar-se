{
  "nbformat": 4,
  "nbformat_minor": 0,
  "metadata": {
    "colab": {
      "name": "Moutar-SE-01.ipynb",
      "provenance": [],
      "collapsed_sections": []
    },
    "kernelspec": {
      "name": "python3",
      "display_name": "Python 3"
    },
    "language_info": {
      "name": "python"
    }
  },
  "cells": [
    {
      "cell_type": "markdown",
      "metadata": {
        "id": "v2lES0rqvoI4"
      },
      "source": [
        "# Moutar Software Engineering Test \n",
        "##**Logical Reasoning**"
      ]
    },
    {
      "cell_type": "markdown",
      "metadata": {
        "id": "ZFyGv-UYv_TF"
      },
      "source": [
        "1. The easy way using an existing library \n"
      ]
    },
    {
      "cell_type": "code",
      "metadata": {
        "colab": {
          "base_uri": "https://localhost:8080/"
        },
        "id": "-Lp85IKOr1CB",
        "outputId": "dd49d559-d21c-4329-a519-9d2aa413d458"
      },
      "source": [
        "pip install num2words"
      ],
      "execution_count": 1,
      "outputs": [
        {
          "output_type": "stream",
          "text": [
            "Collecting num2words\n",
            "\u001b[?25l  Downloading https://files.pythonhosted.org/packages/eb/a2/ea800689730732e27711c41beed4b2a129b34974435bdc450377ec407738/num2words-0.5.10-py3-none-any.whl (101kB)\n",
            "\r\u001b[K     |███▎                            | 10kB 8.7MB/s eta 0:00:01\r\u001b[K     |██████▌                         | 20kB 8.7MB/s eta 0:00:01\r\u001b[K     |█████████▊                      | 30kB 5.4MB/s eta 0:00:01\r\u001b[K     |█████████████                   | 40kB 4.9MB/s eta 0:00:01\r\u001b[K     |████████████████▏               | 51kB 2.9MB/s eta 0:00:01\r\u001b[K     |███████████████████▍            | 61kB 3.3MB/s eta 0:00:01\r\u001b[K     |██████████████████████▋         | 71kB 3.4MB/s eta 0:00:01\r\u001b[K     |█████████████████████████▉      | 81kB 3.5MB/s eta 0:00:01\r\u001b[K     |█████████████████████████████   | 92kB 3.5MB/s eta 0:00:01\r\u001b[K     |████████████████████████████████| 102kB 2.8MB/s \n",
            "\u001b[?25hRequirement already satisfied: docopt>=0.6.2 in /usr/local/lib/python3.7/dist-packages (from num2words) (0.6.2)\n",
            "Installing collected packages: num2words\n",
            "Successfully installed num2words-0.5.10\n"
          ],
          "name": "stdout"
        }
      ]
    },
    {
      "cell_type": "code",
      "metadata": {
        "id": "K6S4E0ZDsCR_"
      },
      "source": [
        "from num2words import *"
      ],
      "execution_count": 8,
      "outputs": []
    },
    {
      "cell_type": "code",
      "metadata": {
        "colab": {
          "base_uri": "https://localhost:8080/"
        },
        "id": "umwn81GUsddM",
        "outputId": "7bccf80c-403f-48db-cc22-295eb00d201f"
      },
      "source": [
        "print(num2words(1001, to='cardinal')) # Testing cardinal\n",
        "print(num2words(1001,to='ordinal')) # Testing ordinal"
      ],
      "execution_count": 27,
      "outputs": [
        {
          "output_type": "stream",
          "text": [
            "one thousand and one\n",
            "one thousand and first\n"
          ],
          "name": "stdout"
        }
      ]
    },
    {
      "cell_type": "code",
      "metadata": {
        "colab": {
          "base_uri": "https://localhost:8080/"
        },
        "id": "eVklnivLs6zk",
        "outputId": "486ce6be-ec0d-490e-f5e1-2f5e4706e0d1"
      },
      "source": [
        "print(num2words(25))\n",
        "print(num2words(25, lang='id'))"
      ],
      "execution_count": 28,
      "outputs": [
        {
          "output_type": "stream",
          "text": [
            "twenty-five\n",
            "dua puluh lima\n"
          ],
          "name": "stdout"
        }
      ]
    },
    {
      "cell_type": "code",
      "metadata": {
        "colab": {
          "base_uri": "https://localhost:8080/"
        },
        "id": "5n9cOq1XtBrB",
        "outputId": "5caee187-85bb-47f0-9b5d-bab304ad167b"
      },
      "source": [
        "# Since the requirement is to take user input and print it, hence we explicitly cast int var type to the val inputed by the user before using data to num2words\n",
        "\n",
        "val = int(input(\"Enter your value to be converted into Indonesian: \"))\n",
        "# print(val) # Uncomment to check the value (Debugging purposes)\n",
        "print(num2words(val,lang='id'))"
      ],
      "execution_count": 29,
      "outputs": [
        {
          "output_type": "stream",
          "text": [
            "Enter your value to be converted into Indonesian: 9\n",
            "9\n",
            "sembilan\n"
          ],
          "name": "stdout"
        }
      ]
    },
    {
      "cell_type": "markdown",
      "metadata": {
        "id": "rSPH99WX1VuZ"
      },
      "source": [
        "2. Doing it manually\n",
        "\n"
      ]
    },
    {
      "cell_type": "code",
      "metadata": {
        "colab": {
          "base_uri": "https://localhost:8080/"
        },
        "id": "CxvekuYl1dzg",
        "outputId": "d63de983-8ea9-4b16-d744-e9a331184ca8"
      },
      "source": [
        "BASE = [ \"\", \"satu \", \"dua \", \"tiga \", \"empat \",\n",
        "\t\t\"lima \", \"enam \", \"tujuh \", \"delapan \",\n",
        "\t\t\"sembilan \", \"sepuluh \", \"sebelas \", \"dua belas \",\n",
        "\t\t\"tiga belas \", \"empat belas \", \"lima belas \",\n",
        "\t\t\"enam belas \", \"tujuh belas \", \"delapan belas \",\n",
        "\t\t\"sembilan belas \"];\n",
        "\n",
        "TENS = [ \"\", \"\", \"dua puluh \", \"tiga puluh \", \"empat puluh \",\n",
        "\t\t\"lima puluh \", \"enam puluh \", \"tujuh puluh \", \"delapan puluh \",\n",
        "\t\t\"sembilan puluh \"];\n",
        "\n",
        "\n",
        "def numToWords(n, s):\n",
        "\n",
        "\tstr = \"\";\n",
        "\t\n",
        "  # Need to explicitly handle 10-19. Sum of the two digits is used as index of array of strings\n",
        "  # When it is over 19, we divide\n",
        "\tif (n > 19):\n",
        "\t\tstr += TENS[n // 10] + BASE[n % 10];\n",
        "\telse:\n",
        "\t\tstr += BASE[n];\n",
        "\n",
        "\t# n != 0 \n",
        "\tif (n):\n",
        "\t\tstr += s;\n",
        "\n",
        "\treturn str;\n",
        "\n",
        "def convertToWords(n):\n",
        "  \n",
        "  str_n = str(n) # Cast n into str to compare len \n",
        "  out = \"\";\n",
        "\n",
        "  \n",
        "  if len(str_n) == 6:\n",
        "    # puluh juta dan ratusan juta (kalau ada) \n",
        "    out += numToWords((n // 1000000),\n",
        "                \"juta \");\n",
        "\n",
        "    # ratusan ribu dan jutaan\n",
        "    out += numToWords(((n // 100000) % 100),\n",
        "                  \"ratus \");\n",
        "\n",
        "    # ribu puluhan ribu\n",
        "    out += numToWords(((n // 1000) % 100),\n",
        "                \"ribu \");\n",
        "\n",
        "    # ratusan\n",
        "    out += numToWords(((n // 100) % 10),\n",
        "                \"ratus \");\n",
        "\n",
        "    if (n > 100 and n % 100):\n",
        "      out += \"\";\n",
        "\n",
        "    # satuan (BASE)\n",
        "    out += numToWords((n % 100), \"\");\n",
        "\n",
        "    return out;\n",
        "  \n",
        "  elif len(str_n) == 8:\n",
        "    out += numToWords((n // 1000000),\n",
        "                \"juta \");\n",
        "    out += numToWords(((n // 100000) % 10),\n",
        "                  \"ratus \");\n",
        "    # removing the end line for ratusan in this case of puluhan jt \n",
        "    out += numToWords(((n // 1000) % 100),\n",
        "                \" \");\n",
        "    out += numToWords(((n // 100) % 10),\n",
        "                \"ratus \");\n",
        "\n",
        "    if (n > 100 and n % 100):\n",
        "      out += \"\";\n",
        "    out += numToWords((n % 100), \"\");\n",
        "\n",
        "    return out;\n",
        "  else:\n",
        " \n",
        "    out = \"\";\n",
        "    out += numToWords((n // 10000000),\n",
        "                \"miliar \");\n",
        "    out += numToWords(((n // 100000) % 100),\n",
        "                  \"ratus juta \");\n",
        "    out += numToWords(((n // 1000) % 100),\n",
        "                \"ribu \");\n",
        "    out += numToWords(((n // 100) % 10),\n",
        "                \"ratus \");\n",
        "\n",
        "    if (n > 100 and n % 100):\n",
        "      out += \"\";\n",
        "\n",
        "    out += numToWords((n % 100), \"\");\n",
        "\n",
        "    return out;\n",
        "\n",
        " \n",
        "# For debugging / checking\n",
        "# n = 95000800;\n",
        "# print(convertToWords(n));\n",
        "\n",
        "\n",
        "for i in range(1):\n",
        "  # Since the requirement is to take user input and print it, hence we explicitly cast int var type to the val inputed by the user before using data to num2words\n",
        "  val = int(input(\"Enter your value to be converted into Indonesian: \"))\n",
        "  # print(val) # Uncomment to check the value (Debugging purposes)\n",
        "  print(convertToWords(val))\n",
        "\n"
      ],
      "execution_count": 53,
      "outputs": [
        {
          "output_type": "stream",
          "text": [
            "Enter your value to be converted into Indonesian: 850450\n",
            "delapan ratus lima puluh ribu empat ratus lima puluh \n"
          ],
          "name": "stdout"
        }
      ]
    },
    {
      "cell_type": "code",
      "metadata": {
        "colab": {
          "base_uri": "https://localhost:8080/"
        },
        "id": "H9ZPL0zEvK0k",
        "outputId": "5e90cb97-2de0-4935-db80-a8a93a4df66e"
      },
      "source": [
        "# Debug: \n",
        "# print(len('86789000'))"
      ],
      "execution_count": 54,
      "outputs": [
        {
          "output_type": "stream",
          "text": [
            "8\n"
          ],
          "name": "stdout"
        }
      ]
    },
    {
      "cell_type": "code",
      "metadata": {
        "id": "iRz04XkQymzt"
      },
      "source": [
        ""
      ],
      "execution_count": null,
      "outputs": []
    }
  ]
}